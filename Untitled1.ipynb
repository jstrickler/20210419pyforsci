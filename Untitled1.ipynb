{
 "cells": [
  {
   "cell_type": "markdown",
   "metadata": {},
   "source": [
    "# playing with stupid numbers"
   ]
  },
  {
   "cell_type": "code",
   "execution_count": 1,
   "metadata": {},
   "outputs": [],
   "source": [
    "import numpy as np"
   ]
  },
  {
   "cell_type": "markdown",
   "metadata": {},
   "source": [
    "## Loading data"
   ]
  },
  {
   "cell_type": "code",
   "execution_count": 12,
   "metadata": {},
   "outputs": [],
   "source": [
    "sample_data = np.loadtxt(   # <1>\n",
    "    \"DATA/columns_of_numbers.txt\",\n",
    "    skiprows=1,\n",
    "    dtype=int\n",
    ")"
   ]
  },
  {
   "cell_type": "code",
   "execution_count": 13,
   "metadata": {},
   "outputs": [
    {
     "data": {
      "text/plain": [
       "array([[63, 51, 59, 61, 50,  4],\n",
       "       [40, 66,  9, 64, 63, 17],\n",
       "       [18, 23,  2, 61,  1,  9],\n",
       "       [29,  8, 40, 59, 10, 26],\n",
       "       [54,  9, 68,  4, 16, 21],\n",
       "       [45, 19, 42, 53, 48, 16],\n",
       "       [46, 37, 29, 53, 68,  8],\n",
       "       [36, 32, 22, 58, 10, 10],\n",
       "       [65, 14, 46, 68, 61, 13],\n",
       "       [13, 62, 10, 53, 32, 21],\n",
       "       [63, 22,  5, 43, 57, 24],\n",
       "       [32, 26, 20, 38, 58,  3],\n",
       "       [66, 57,  5, 69, 21, 13],\n",
       "       [54, 41,  9,  3, 21, 25],\n",
       "       [60, 39, 33,  4, 46,  6],\n",
       "       [55, 10,  5, 67, 28,  9],\n",
       "       [38, 28, 33, 32, 62, 15],\n",
       "       [45,  5, 47, 54, 22,  3],\n",
       "       [39,  4, 48, 45, 11,  9],\n",
       "       [68, 17, 20, 63, 32, 19],\n",
       "       [62, 31, 56, 46, 29,  8],\n",
       "       [31, 21, 11, 41, 59, 21],\n",
       "       [18, 49, 66, 17, 59,  9],\n",
       "       [24, 22, 23, 62, 45,  5],\n",
       "       [18,  1, 51, 15, 26, 26],\n",
       "       [39, 21, 48, 41, 63,  6],\n",
       "       [ 1, 19, 52, 40, 37, 15],\n",
       "       [61, 26, 45,  5, 22, 13],\n",
       "       [68, 63, 14,  8, 61, 24],\n",
       "       [51, 53, 36, 23, 60, 15],\n",
       "       [53, 20, 54, 46,  8, 13],\n",
       "       [65,  9, 44, 36, 32,  1],\n",
       "       [ 8, 62, 31, 36, 15, 11],\n",
       "       [32, 18, 31, 48, 45, 16],\n",
       "       [ 2, 29,  9, 27, 42,  9],\n",
       "       [25, 67, 54, 44, 13,  5],\n",
       "       [30, 16, 41, 48, 53, 16],\n",
       "       [57, 41, 50, 26,  1, 11],\n",
       "       [42, 23, 59, 46, 33,  4],\n",
       "       [ 2, 22, 63, 19, 18, 19],\n",
       "       [16, 10, 52, 40, 55, 17],\n",
       "       [ 6, 62, 32, 47, 65, 19],\n",
       "       [52, 10, 61, 28, 13,  2],\n",
       "       [ 9,  3, 33,  7, 31, 20],\n",
       "       [33,  5, 42, 38, 28, 19],\n",
       "       [37, 64, 17,  9,  5,  2],\n",
       "       [49, 20, 42, 14, 66,  5],\n",
       "       [52, 17, 16, 13,  6, 25],\n",
       "       [ 9, 60, 64, 43, 57, 10],\n",
       "       [39, 12, 49, 69, 20, 17]])"
      ]
     },
     "execution_count": 13,
     "metadata": {},
     "output_type": "execute_result"
    }
   ],
   "source": [
    "sample_data[:50]"
   ]
  },
  {
   "cell_type": "markdown",
   "metadata": {},
   "source": [
    "## selecting desired data"
   ]
  },
  {
   "cell_type": "code",
   "execution_count": 14,
   "metadata": {},
   "outputs": [
    {
     "data": {
      "text/plain": [
       "array([[ 8, 49,  2, 40, 50, 36],\n",
       "       [ 4, 49, 39, 50, 23, 39],\n",
       "       [ 6,  7, 40, 56, 31, 38],\n",
       "       [ 6,  1, 44, 55, 49, 36],\n",
       "       [ 5, 22, 45, 49, 10, 37]])"
      ]
     },
     "execution_count": 14,
     "metadata": {},
     "output_type": "execute_result"
    }
   ],
   "source": [
    "selected = sample_data[  # <2>\n",
    "    (sample_data[:, 0] < 10) &  # <3>\n",
    "    (sample_data[:, -1] > 35)\n",
    "]\n",
    "selected"
   ]
  },
  {
   "cell_type": "code",
   "execution_count": 15,
   "metadata": {},
   "outputs": [
    {
     "name": "stdout",
     "output_type": "stream",
     "text": [
      "5 30\n"
     ]
    }
   ],
   "source": [
    "print(len(selected), selected.size)"
   ]
  },
  {
   "cell_type": "code",
   "execution_count": 16,
   "metadata": {},
   "outputs": [
    {
     "name": "stdout",
     "output_type": "stream",
     "text": [
      "889 5334\n"
     ]
    }
   ],
   "source": [
    "print(len(sample_data), sample_data.size)"
   ]
  },
  {
   "cell_type": "code",
   "execution_count": 17,
   "metadata": {},
   "outputs": [
    {
     "name": "stdout",
     "output_type": "stream",
     "text": [
      "(889, 6) int64 2\n"
     ]
    }
   ],
   "source": [
    "print(sample_data.shape, sample_data.dtype, sample_data.ndim)"
   ]
  },
  {
   "cell_type": "code",
   "execution_count": null,
   "metadata": {},
   "outputs": [],
   "source": []
  },
  {
   "cell_type": "code",
   "execution_count": null,
   "metadata": {},
   "outputs": [],
   "source": []
  }
 ],
 "metadata": {
  "kernelspec": {
   "display_name": "Python 3",
   "language": "python",
   "name": "python3"
  },
  "language_info": {
   "codemirror_mode": {
    "name": "ipython",
    "version": 3
   },
   "file_extension": ".py",
   "mimetype": "text/x-python",
   "name": "python",
   "nbconvert_exporter": "python",
   "pygments_lexer": "ipython3",
   "version": "3.7.6"
  }
 },
 "nbformat": 4,
 "nbformat_minor": 4
}
